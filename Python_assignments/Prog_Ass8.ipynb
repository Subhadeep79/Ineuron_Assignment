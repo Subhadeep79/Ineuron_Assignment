{
 "cells": [
  {
   "cell_type": "markdown",
   "id": "b2958440",
   "metadata": {},
   "source": [
    "# Python_Programming Assignment 8\n"
   ]
  },
  {
   "cell_type": "markdown",
   "id": "66a45884",
   "metadata": {},
   "source": [
    "1. Write a Python Program to Add Two Matrices?"
   ]
  },
  {
   "cell_type": "code",
   "execution_count": 1,
   "id": "2a3baafb",
   "metadata": {},
   "outputs": [
    {
     "name": "stdout",
     "output_type": "stream",
     "text": [
      "Enter numbers of rows: 2\n",
      "Enter numbers of col: 2\n",
      "Enter 0row 0col for first array: 1\n",
      "Enter 0row 0col for 2nd array: 1\n",
      "Enter 0row 1col for first array: 2\n",
      "Enter 0row 1col for 2nd array: 2\n",
      "Enter 1row 0col for first array: 3\n",
      "Enter 1row 0col for 2nd array: 3\n",
      "Enter 1row 1col for first array: 4\n",
      "Enter 1row 1col for 2nd array: 4\n",
      "Matrix 1 : \n",
      "1 2 \n",
      "3 4 \n",
      "Matrix 2 : \n",
      "1 2 \n",
      "3 4 \n",
      "Sum : \n",
      "2 4 \n",
      "6 8 \n"
     ]
    }
   ],
   "source": [
    "a1 = []\n",
    "a2 = []\n",
    "\n",
    "m = int(input(\"Enter numbers of rows: \"))\n",
    "n = int(input(\"Enter numbers of col: \"))\n",
    "\n",
    "for i in range(m):\n",
    "    a = [] #first array\n",
    "    b = [] #2nd array\n",
    "    for j in range(n):\n",
    "        a.append(int(input(f\"Enter {i}row {j}col for first array: \")))\n",
    "        b.append(int(input(f\"Enter {i}row {j}col for 2nd array: \")))\n",
    "    a1.append(a)\n",
    "    a2.append(b)\n",
    "    \n",
    "print(\"Matrix 1 : \")\n",
    "\n",
    "for i in range(m):\n",
    "    for j in range(n):\n",
    "        print(a1[i][j], end = \" \")\n",
    "    print()\n",
    "    \n",
    "print(\"Matrix 2 : \")\n",
    "\n",
    "for i in range(m):\n",
    "    for j in range(n):\n",
    "        print(a2[i][j], end = \" \")\n",
    "    print()\n",
    "\n",
    "result = []\n",
    "\n",
    "for i in range(m):\n",
    "    r = []\n",
    "    for j in range(n):\n",
    "        r.append(a1[i][j] + a2[i][j])\n",
    "    result.append(r)\n",
    "\n",
    "\n",
    "print(\"Sum : \")              \n",
    "for i in range(m):\n",
    "    for j in range(n):\n",
    "        print(result[i][j], end = \" \")\n",
    "    print()       \n",
    "    "
   ]
  },
  {
   "cell_type": "markdown",
   "id": "787401e0",
   "metadata": {},
   "source": [
    "2. Write a Python Program to Multiply Two Matrices?"
   ]
  },
  {
   "cell_type": "code",
   "execution_count": 2,
   "id": "7317f7ed",
   "metadata": {},
   "outputs": [
    {
     "name": "stdout",
     "output_type": "stream",
     "text": [
      "Enter numbers of rows: 2\n",
      "Enter numbers of col: 2\n",
      "Enter 0row 0col for first array: 1\n",
      "Enter 0row 0col for 2nd array: 1\n",
      "Enter 0row 1col for first array: 2\n",
      "Enter 0row 1col for 2nd array: 2\n",
      "Enter 1row 0col for first array: 3\n",
      "Enter 1row 0col for 2nd array: 3\n",
      "Enter 1row 1col for first array: 4\n",
      "Enter 1row 1col for 2nd array: 4\n",
      "Matrix 1 : \n",
      "1 2 \n",
      "3 4 \n",
      "Matrix 2 : \n",
      "1 2 \n",
      "3 4 \n",
      "product : \n",
      "1 4 \n",
      "9 16 \n"
     ]
    }
   ],
   "source": [
    "a1 = []\n",
    "a2 = []\n",
    "\n",
    "m = int(input(\"Enter numbers of rows: \"))\n",
    "n = int(input(\"Enter numbers of col: \"))\n",
    "\n",
    "for i in range(m):\n",
    "    a = [] #first array\n",
    "    b = [] #2nd array\n",
    "    for j in range(n):\n",
    "        a.append(int(input(f\"Enter {i}row {j}col for first array: \")))\n",
    "        b.append(int(input(f\"Enter {i}row {j}col for 2nd array: \")))\n",
    "    a1.append(a)\n",
    "    a2.append(b)\n",
    "    \n",
    "print(\"Matrix 1 : \")\n",
    "\n",
    "for i in range(m):\n",
    "    for j in range(n):\n",
    "        print(a1[i][j], end = \" \")\n",
    "    print()\n",
    "    \n",
    "print(\"Matrix 2 : \")\n",
    "\n",
    "for i in range(m):\n",
    "    for j in range(n):\n",
    "        print(a2[i][j], end = \" \")\n",
    "    print()\n",
    "\n",
    "result = []\n",
    "\n",
    "for i in range(m):\n",
    "    r = []\n",
    "    for j in range(n):\n",
    "        r.append(a1[i][j] * a2[i][j])\n",
    "    result.append(r)\n",
    "\n",
    "\n",
    "print(\"product : \")              \n",
    "for i in range(m):\n",
    "    for j in range(n):\n",
    "        print(result[i][j], end = \" \")\n",
    "    print()       \n",
    "    "
   ]
  },
  {
   "cell_type": "markdown",
   "id": "82c48e93",
   "metadata": {},
   "source": [
    "3. Write a Python Program to Transpose a Matrix?"
   ]
  },
  {
   "cell_type": "code",
   "execution_count": 3,
   "id": "7e7572b5",
   "metadata": {},
   "outputs": [
    {
     "name": "stdout",
     "output_type": "stream",
     "text": [
      "Enter numbers of rows: 3\n",
      "Enter numbers of col: 2\n",
      "Enter 0row 0col for first array: 1\n",
      "Enter 0row 1col for first array: 2\n",
      "Enter 1row 0col for first array: 3\n",
      "Enter 1row 1col for first array: 4\n",
      "Enter 2row 0col for first array: 5\n",
      "Enter 2row 1col for first array: 6\n",
      "Original matrix: \n",
      "1 2 \n",
      "3 4 \n",
      "5 6 \n",
      " Transposed matrix : \n",
      "1 3 5 \n",
      "2 4 6 \n"
     ]
    }
   ],
   "source": [
    "a1 = []\n",
    "\n",
    "m = int(input(\"Enter numbers of rows: \"))\n",
    "n = int(input(\"Enter numbers of col: \"))\n",
    "\n",
    "for i in range(m):\n",
    "    a = [] \n",
    "    for j in range(n):\n",
    "        a.append(int(input(f\"Enter {i}row {j}col for first array: \")))\n",
    "    a1.append(a)\n",
    "tm = []\n",
    "for i in range(n):\n",
    "    a = []\n",
    "    for j in range(m):\n",
    "        a.append(0)\n",
    "    tm.append(a)\n",
    "\n",
    "\n",
    "\n",
    "for i in range(m):\n",
    "    for j in range(n):\n",
    "        tm[j][i] = a1[i][j]\n",
    "        \n",
    "print(\"Original matrix: \")\n",
    "\n",
    "for i in range(m):\n",
    "    for j in range(n):\n",
    "        print(a1[i][j], end = \" \")\n",
    "    print()\n",
    "\n",
    "print(\" Transposed matrix : \")\n",
    "for i in range(n):\n",
    "    for j in range(m):\n",
    "        print(tm[i][j], end = \" \")\n",
    "    print()      \n",
    "    "
   ]
  },
  {
   "cell_type": "markdown",
   "id": "4d32411f",
   "metadata": {},
   "source": [
    "4. Write a Python Program to Sort Words in Alphabetic Order?"
   ]
  },
  {
   "cell_type": "code",
   "execution_count": 4,
   "id": "90e07a74",
   "metadata": {},
   "outputs": [
    {
     "name": "stdout",
     "output_type": "stream",
     "text": [
      "Input words: Hello i can sort this sentence\n",
      "The sorted words are:\n",
      "can\n",
      "hello\n",
      "i\n",
      "sentence\n",
      "sort\n",
      "this\n"
     ]
    }
   ],
   "source": [
    "words = input(\"Input words: \")\n",
    "words = words.lower()\n",
    "words = words.split()\n",
    "words.sort()\n",
    "\n",
    "print(\"The sorted words are:\")\n",
    "for i in words:\n",
    "    print(i) "
   ]
  },
  {
   "cell_type": "markdown",
   "id": "55ba8e9d",
   "metadata": {},
   "source": [
    "5. Write a Python Program to Remove Punctuation From a String?"
   ]
  },
  {
   "cell_type": "code",
   "execution_count": 5,
   "id": "48a5744d",
   "metadata": {},
   "outputs": [
    {
     "name": "stdout",
     "output_type": "stream",
     "text": [
      "Strings: she;;;;sales...\\sea;;shells.,';'on.the.sea[]shore';.\n",
      "String without punctuation : shesalesseashellsontheseashore \n"
     ]
    }
   ],
   "source": [
    "punctuations = '''!()-[]{};:'\"\\,<>./?@#$%^&*_~'''\n",
    "\n",
    "string = input(\"Strings: \") \n",
    "no_punct = \"\"\n",
    "for char in string:\n",
    "    if char not in punctuations:\n",
    "        no_punct = no_punct + char\n",
    "print(f\"String without punctuation : {no_punct} \")"
   ]
  }
 ],
 "metadata": {
  "kernelspec": {
   "display_name": "Python 3 (ipykernel)",
   "language": "python",
   "name": "python3"
  },
  "language_info": {
   "codemirror_mode": {
    "name": "ipython",
    "version": 3
   },
   "file_extension": ".py",
   "mimetype": "text/x-python",
   "name": "python",
   "nbconvert_exporter": "python",
   "pygments_lexer": "ipython3",
   "version": "3.8.8"
  }
 },
 "nbformat": 4,
 "nbformat_minor": 5
}
