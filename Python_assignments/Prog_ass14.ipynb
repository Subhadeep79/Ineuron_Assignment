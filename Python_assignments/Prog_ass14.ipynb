{
 "cells": [
  {
   "cell_type": "markdown",
   "id": "2aef29cf",
   "metadata": {},
   "source": [
    "# Python_Programming Assignnment 14"
   ]
  },
  {
   "cell_type": "markdown",
   "id": "784619b8",
   "metadata": {},
   "source": [
    "Question 1:\n",
    "Define a class with a generator which can iterate the numbers, which are divisible by\n",
    "7, between a given range 0 and n."
   ]
  },
  {
   "cell_type": "code",
   "execution_count": 2,
   "id": "216853b4",
   "metadata": {},
   "outputs": [
    {
     "name": "stdout",
     "output_type": "stream",
     "text": [
      "Enter the range(n) : 10\n",
      "0\n",
      "7\n"
     ]
    }
   ],
   "source": [
    "def gen(n):\n",
    "    for i in range(0,n):\n",
    "        if i%7 == 0 :\n",
    "            yield i\n",
    "\n",
    "n = int(input(\"Enter the range(n) : \"))\n",
    "\n",
    "for i in gen(n):\n",
    "    print(i)\n",
    "    "
   ]
  },
  {
   "cell_type": "markdown",
   "id": "318e2c16",
   "metadata": {},
   "source": [
    "Question 2:\n",
    "Write a program to compute the frequency of the words from the input. The output\n",
    "should output after sorting the key alphanumerically."
   ]
  },
  {
   "cell_type": "code",
   "execution_count": 4,
   "id": "3bfaca15",
   "metadata": {},
   "outputs": [
    {
     "name": "stdout",
     "output_type": "stream",
     "text": [
      "Enter the sentence:- hello world this is python , python 007\n",
      "(',', 1)\n",
      "('007', 1)\n",
      "('hello', 1)\n",
      "('is', 1)\n",
      "('python', 2)\n",
      "('this', 1)\n",
      "('world', 1)\n"
     ]
    }
   ],
   "source": [
    "s = input(\"Enter the sentence:- \")\n",
    "\n",
    "s = s.strip()\n",
    "s= s.split()\n",
    "c=0\n",
    "r = {}\n",
    "for i in range(len(s)) :\n",
    "    for j in range(len(s)):\n",
    "        if s[i] == s[j]:\n",
    "            c+=1\n",
    "    r[s[i]] = c\n",
    "    c= 0\n",
    "\n",
    "print(*sorted(r.items()), sep='\\n')\n",
    "    "
   ]
  },
  {
   "cell_type": "markdown",
   "id": "37dd95bf",
   "metadata": {},
   "source": [
    "Question 3:\n",
    "\n",
    "Define a class Person and its two child classes: Male and Female. All classes have a\n",
    "method &quot;getGender&quot; which can print &quot;Male&quot; for Male class and &quot;Female&quot; for Female\n",
    "class."
   ]
  },
  {
   "cell_type": "code",
   "execution_count": 5,
   "id": "dfa9aca0",
   "metadata": {},
   "outputs": [
    {
     "name": "stdout",
     "output_type": "stream",
     "text": [
      "Male\n",
      "Female\n"
     ]
    }
   ],
   "source": [
    "class Person():\n",
    "    def getGender():\n",
    "        pass\n",
    "    \n",
    "class Male(Person):\n",
    "    def getGender():\n",
    "        print(\"Male\")\n",
    "        \n",
    "class Female(Person):\n",
    "    def getGender():\n",
    "        print(\"Female\")\n",
    "\n",
    "Male.getGender()\n",
    "Female.getGender()"
   ]
  },
  {
   "cell_type": "markdown",
   "id": "45e7fd16",
   "metadata": {},
   "source": [
    "Question 4:\n",
    "Please write a program to generate all sentences where subject is in [&quot;I&quot;, &quot;You&quot;] and\n",
    "verb is in [&quot;Play&quot;, &quot;Love&quot;] and the object is in [&quot;Hockey&quot;,&quot;Football&quot;]."
   ]
  },
  {
   "cell_type": "code",
   "execution_count": 6,
   "id": "ff00af88",
   "metadata": {
    "scrolled": true
   },
   "outputs": [
    {
     "name": "stdout",
     "output_type": "stream",
     "text": [
      "I Play Hockey\n",
      "I Play Football\n",
      "I Love Hockey\n",
      "I Love Football\n",
      "You Play Hockey\n",
      "You Play Football\n",
      "You Love Hockey\n",
      "You Love Football\n"
     ]
    }
   ],
   "source": [
    "sub = [\"I\", \"You\"] \n",
    "v = [\"Play\", \"Love\"] \n",
    "ob =  [\"Hockey\",\"Football\"]\n",
    "\n",
    "for i in range(len(sub)):\n",
    "    for j in range(len(v)):\n",
    "        for k in range(len(ob)):\n",
    "            print(f\"{sub[i]} {v[j]} {ob[k]}\")"
   ]
  },
  {
   "cell_type": "markdown",
   "id": "72749543",
   "metadata": {},
   "source": [
    "Question 5:\n",
    "Please write a program to compress and decompress the string &quot;hello world!hello\n",
    "world!hello world!hello world!&quot;."
   ]
  },
  {
   "cell_type": "code",
   "execution_count": null,
   "id": "0e8fc971",
   "metadata": {},
   "outputs": [],
   "source": []
  },
  {
   "cell_type": "markdown",
   "id": "c3fe8656",
   "metadata": {},
   "source": [
    "Question 6:\n",
    "Please write a binary search function which searches an item in a sorted list. The\n",
    "function should return the index of element to be searched in the list."
   ]
  },
  {
   "cell_type": "code",
   "execution_count": 19,
   "id": "a3060ae9",
   "metadata": {},
   "outputs": [
    {
     "name": "stdout",
     "output_type": "stream",
     "text": [
      "[1, 2, 3, 4, 6, 7, 8, 9]\n",
      "Found At Index 3\n"
     ]
    }
   ],
   "source": [
    "def binarySearch(arr,t):\n",
    "    l = 0\n",
    "    h = len(arr)-1\n",
    "    mid = 0\n",
    "    while h-l>1 :\n",
    "        mid = (h+l)//2\n",
    "        if arr[mid] < t:\n",
    "            l = mid + 1\n",
    "        else:\n",
    "            h = mid\n",
    " \n",
    "    if arr[l] == t:\n",
    "        print(f\"Found At Index {l}\")\n",
    "    elif arr[h] == t:\n",
    "        print(f\"Found At Index {h}\")\n",
    "    else:\n",
    "        print(\"Not Found\")\n",
    "        \n",
    "l = [6,7,8,9,1,2,3,4]\n",
    "l.sort()\n",
    "print(l)\n",
    "binarySearch(l, 4)\n"
   ]
  }
 ],
 "metadata": {
  "kernelspec": {
   "display_name": "Python 3 (ipykernel)",
   "language": "python",
   "name": "python3"
  },
  "language_info": {
   "codemirror_mode": {
    "name": "ipython",
    "version": 3
   },
   "file_extension": ".py",
   "mimetype": "text/x-python",
   "name": "python",
   "nbconvert_exporter": "python",
   "pygments_lexer": "ipython3",
   "version": "3.8.8"
  }
 },
 "nbformat": 4,
 "nbformat_minor": 5
}
