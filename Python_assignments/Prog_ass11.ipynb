{
 "cells": [
  {
   "cell_type": "markdown",
   "id": "be9066b3",
   "metadata": {},
   "source": [
    "# Python_Programming Assignment11\n",
    "\n"
   ]
  },
  {
   "cell_type": "markdown",
   "id": "5a968cfe",
   "metadata": {},
   "source": [
    "1. Write a Python program to find words which are greater than given length k?\n"
   ]
  },
  {
   "cell_type": "code",
   "execution_count": 1,
   "id": "71ec4b08",
   "metadata": {},
   "outputs": [
    {
     "name": "stdout",
     "output_type": "stream",
     "text": [
      "Enter the sentence:- I can find the strings greater than k\n",
      "Enter the length:- 3\n",
      "find\n",
      "strings\n",
      "greater\n",
      "than\n"
     ]
    }
   ],
   "source": [
    "string = input(\"Enter the sentence:- \")\n",
    "\n",
    "k = int(input(\"Enter the length:- \"))\n",
    "\n",
    "string = string.split()\n",
    "\n",
    "for i in range(len(string)):\n",
    "    if(len(string[i])>k):\n",
    "        print(string[i])\n"
   ]
  },
  {
   "cell_type": "markdown",
   "id": "2fa8c47f",
   "metadata": {},
   "source": [
    "2. Write a Python program for removing i-th character from a string?"
   ]
  },
  {
   "cell_type": "code",
   "execution_count": 2,
   "id": "90371c72",
   "metadata": {},
   "outputs": [
    {
     "name": "stdout",
     "output_type": "stream",
     "text": [
      "Enter the word:- google\n",
      "Enter the ith char u  want to remove:- 4\n",
      "g\n"
     ]
    }
   ],
   "source": [
    "string = input(\"Enter the word:- \")\n",
    "\n",
    "k = int(input(\"Enter the ith char u  want to remove:- \"))\n",
    "\n",
    "print(string[k-1:k])\n"
   ]
  },
  {
   "cell_type": "markdown",
   "id": "47bc376b",
   "metadata": {},
   "source": [
    "3. Write a Python program to split and join a string?"
   ]
  },
  {
   "cell_type": "code",
   "execution_count": 3,
   "id": "b0ce581b",
   "metadata": {},
   "outputs": [
    {
     "name": "stdout",
     "output_type": "stream",
     "text": [
      "Enter the string:- splitting and joing this string with a ddelementer\n",
      "original string: splitting and joing this string with a ddelementer\n",
      "Split string: ['splitting', 'and', 'joing', 'this', 'string', 'with', 'a', 'ddelementer']\n",
      "Joined string: splitting and joing this string with a ddelementer\n",
      "Joined string with a delimeter: splitting_and_joing_this_string_with_a_ddelementer\n"
     ]
    }
   ],
   "source": [
    "string = input(\"Enter the string:- \")\n",
    "\n",
    "print(f\"original string: {string}\")\n",
    "\n",
    "split_s = string.split()\n",
    "\n",
    "print(f\"Split string: {split_s}\")\n",
    "\n",
    "join_s = \" \".join(split_s)\n",
    "join_ds = \"_\".join(split_s)\n",
    "\n",
    "print(f\"Joined string: {join_s}\")\n",
    "print(f\"Joined string with a delimeter: {join_ds}\")\n",
    "\n"
   ]
  },
  {
   "cell_type": "markdown",
   "id": "3d07cb7e",
   "metadata": {},
   "source": [
    "4. Write a Python to check if a given string is binary string or not?"
   ]
  },
  {
   "cell_type": "code",
   "execution_count": 4,
   "id": "6c568440",
   "metadata": {},
   "outputs": [
    {
     "name": "stdout",
     "output_type": "stream",
     "text": [
      "Enter the string:- 10010101\n",
      "Binary String\n"
     ]
    }
   ],
   "source": [
    "string = input(\"Enter the string:- \")\n",
    "\n",
    "b = set(string)\n",
    "s = {'0', '1'}\n",
    "if s == b or b == {'0'} or b == {'1'}:\n",
    "    print(\"Binary String\")\n",
    "else :\n",
    "    print(\"Non Binary String\")"
   ]
  },
  {
   "cell_type": "markdown",
   "id": "492ac4a8",
   "metadata": {},
   "source": [
    "\n",
    "5. Write a Python program to find uncommon words from two Strings?"
   ]
  },
  {
   "cell_type": "code",
   "execution_count": 5,
   "id": "7e7e8abe",
   "metadata": {},
   "outputs": [
    {
     "name": "stdout",
     "output_type": "stream",
     "text": [
      "Enter the 1st sentence:- this is the first string\n",
      "Enter the 2nd sentence:- this is the 2nd string\n",
      "['first', '2nd']\n"
     ]
    }
   ],
   "source": [
    "s1 = input(\"Enter the 1st sentence:- \")\n",
    "s2 = input(\"Enter the 2nd sentence:- \")\n",
    "\n",
    "s1 = s1.split()\n",
    "s2 = s2.split()\n",
    "r = []\n",
    "for i in s1:\n",
    "    if i not in s2:\n",
    "        r.append(i)\n",
    "for i in s2:\n",
    "    if i not in s1:\n",
    "        r.append(i)\n",
    "\n",
    "print(r)\n"
   ]
  },
  {
   "cell_type": "markdown",
   "id": "6dda7f42",
   "metadata": {},
   "source": [
    "6. Write a Python to find all duplicate characters in string?"
   ]
  },
  {
   "cell_type": "code",
   "execution_count": 6,
   "id": "2e66698c",
   "metadata": {},
   "outputs": [
    {
     "name": "stdout",
     "output_type": "stream",
     "text": [
      "Enter the word:- mississippi\n",
      "i s p\n"
     ]
    }
   ],
   "source": [
    "s1 = input(\"Enter the word:- \")\n",
    "\n",
    "duplicate_char = []\n",
    "for character in s1:\n",
    "      if s1.count(character) > 1:\n",
    "        if character not in duplicate_char:\n",
    "            duplicate_char.append(character)\n",
    "print(*duplicate_char)"
   ]
  },
  {
   "cell_type": "markdown",
   "id": "ea75e9a5",
   "metadata": {},
   "source": [
    "\n",
    "7. Write a Python Program to check if a string contains any special character?"
   ]
  },
  {
   "cell_type": "code",
   "execution_count": 7,
   "id": "6f7bd824",
   "metadata": {},
   "outputs": [
    {
     "name": "stdout",
     "output_type": "stream",
     "text": [
      "Enter the string:- c@@ntain#$s\n",
      "contains\n"
     ]
    }
   ],
   "source": [
    "n=input(\"Enter the string:- \")\n",
    "n.split()\n",
    "c=0\n",
    "s='[@_!#$%^&*()<>?/\\|}{~:]' \n",
    "for i in range(len(n)):\n",
    "    if n[i] in s:\n",
    "        c+=1  \n",
    "if c!=0:\n",
    "    print(\"contains\")\n",
    "else:\n",
    "    print(\"dsnt contain\")"
   ]
  }
 ],
 "metadata": {
  "kernelspec": {
   "display_name": "Python 3 (ipykernel)",
   "language": "python",
   "name": "python3"
  },
  "language_info": {
   "codemirror_mode": {
    "name": "ipython",
    "version": 3
   },
   "file_extension": ".py",
   "mimetype": "text/x-python",
   "name": "python",
   "nbconvert_exporter": "python",
   "pygments_lexer": "ipython3",
   "version": "3.8.8"
  }
 },
 "nbformat": 4,
 "nbformat_minor": 5
}
