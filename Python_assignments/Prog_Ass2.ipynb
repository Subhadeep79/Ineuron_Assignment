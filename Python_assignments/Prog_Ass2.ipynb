{
 "cells": [
  {
   "cell_type": "markdown",
   "id": "efe90d79",
   "metadata": {},
   "source": [
    "# Python_programming assignment 2\n"
   ]
  },
  {
   "cell_type": "markdown",
   "id": "5883c354",
   "metadata": {},
   "source": [
    "1. Write a Python program to convert kilometers to miles?"
   ]
  },
  {
   "cell_type": "code",
   "execution_count": 1,
   "id": "8a3209a8",
   "metadata": {},
   "outputs": [
    {
     "name": "stdout",
     "output_type": "stream",
     "text": [
      "Enter the Value in KM: 2\n",
      "2.0 Kilometer is 1.242 miles\n"
     ]
    }
   ],
   "source": [
    "x = float(input(\"Enter the Value in KM: \"))\n",
    "\n",
    "miles = x * 0.621\n",
    "\n",
    "print(f\"{x} Kilometer is {miles} miles\")\n"
   ]
  },
  {
   "cell_type": "markdown",
   "id": "33343dcc",
   "metadata": {},
   "source": [
    "2. Write a Python program to convert Celsius to Fahrenheit?"
   ]
  },
  {
   "cell_type": "code",
   "execution_count": 2,
   "id": "88ad9d37",
   "metadata": {},
   "outputs": [
    {
     "name": "stdout",
     "output_type": "stream",
     "text": [
      "Enter the Value in degree C: -4\n",
      "-4.0 celsius is 24.8 Fahrenheit\n"
     ]
    }
   ],
   "source": [
    "c = float(input(\"Enter the Value in degree C: \"))\n",
    "\n",
    "F = c * (9/5) +32\n",
    "print(f\"{c} celsius is {F} Fahrenheit\")"
   ]
  },
  {
   "cell_type": "markdown",
   "id": "0dcb39f1",
   "metadata": {},
   "source": [
    "3. Write a Python program to display calendar?"
   ]
  },
  {
   "cell_type": "code",
   "execution_count": 3,
   "id": "3e0ee0bc",
   "metadata": {},
   "outputs": [
    {
     "name": "stdout",
     "output_type": "stream",
     "text": [
      "Enter the year: 2023\n",
      "Enter the month: 1\n",
      "    January 2023\n",
      "Mo Tu We Th Fr Sa Su\n",
      "                   1\n",
      " 2  3  4  5  6  7  8\n",
      " 9 10 11 12 13 14 15\n",
      "16 17 18 19 20 21 22\n",
      "23 24 25 26 27 28 29\n",
      "30 31\n",
      "\n"
     ]
    }
   ],
   "source": [
    "import calendar\n",
    "\n",
    "y = int(input(\"Enter the year: \"))\n",
    "m = int(input(\"Enter the month: \"))\n",
    "\n",
    "print(calendar.month(y,m))"
   ]
  },
  {
   "cell_type": "markdown",
   "id": "58708c14",
   "metadata": {},
   "source": [
    "4. Write a Python program to solve quadratic equation?"
   ]
  },
  {
   "cell_type": "code",
   "execution_count": 4,
   "id": "bb19bc64",
   "metadata": {},
   "outputs": [
    {
     "name": "stdout",
     "output_type": "stream",
     "text": [
      "Enter the value of a (x^2 term) : 1\n",
      "Enter the value of b (x term) : -8\n",
      "Enter the value of c (c term) : 15\n",
      "Equation : (1.0)x^2 + (-8.0)x + (15.0)\n",
      "2 solution for x are : 5.0 , 3.0\n"
     ]
    }
   ],
   "source": [
    "a = float(input(\"Enter the value of a (x^2 term) : \"))\n",
    "b = float(input(\"Enter the value of b (x term) : \"))\n",
    "c = float(input(\"Enter the value of c (c term) : \"))\n",
    "\n",
    "print (f\"Equation : ({a})x^2 + ({b})x + ({c})\") \n",
    "\n",
    "pos_x = (-b+((b**2- 4*a*c))**0.5)/(2*a)\n",
    "neg_x = (-b-((b**2- 4*a*c))**0.5)/(2*a)\n",
    "\n",
    "print(f\"2 solution for x are : {pos_x} , {neg_x}\")"
   ]
  },
  {
   "cell_type": "markdown",
   "id": "233a6582",
   "metadata": {},
   "source": [
    "5. Write a Python program to swap two variables without temp variable?"
   ]
  },
  {
   "cell_type": "code",
   "execution_count": 5,
   "id": "995a1303",
   "metadata": {},
   "outputs": [
    {
     "name": "stdout",
     "output_type": "stream",
     "text": [
      "Before Swapping : 10 , 20\n",
      "After Swapping : 20 , 10\n"
     ]
    }
   ],
   "source": [
    "a = 10\n",
    "b = 20 \n",
    "\n",
    "print(f\"Before Swapping : {a} , {b}\")\n",
    "\n",
    "a,b = b,a\n",
    "\n",
    "print(f\"After Swapping : {a} , {b}\")\n"
   ]
  }
 ],
 "metadata": {
  "kernelspec": {
   "display_name": "Python 3 (ipykernel)",
   "language": "python",
   "name": "python3"
  },
  "language_info": {
   "codemirror_mode": {
    "name": "ipython",
    "version": 3
   },
   "file_extension": ".py",
   "mimetype": "text/x-python",
   "name": "python",
   "nbconvert_exporter": "python",
   "pygments_lexer": "ipython3",
   "version": "3.8.8"
  }
 },
 "nbformat": 4,
 "nbformat_minor": 5
}
