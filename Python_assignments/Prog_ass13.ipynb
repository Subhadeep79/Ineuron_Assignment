{
 "cells": [
  {
   "cell_type": "markdown",
   "id": "09e1df68",
   "metadata": {},
   "source": [
    "# Python_Programming Assignment 13\n"
   ]
  },
  {
   "cell_type": "markdown",
   "id": "693522a8",
   "metadata": {},
   "source": [
    "Q1.Write a program that calculates and prints the value according to the given formula"
   ]
  },
  {
   "cell_type": "code",
   "execution_count": 11,
   "id": "3c373cd0",
   "metadata": {},
   "outputs": [
    {
     "name": "stdout",
     "output_type": "stream",
     "text": [
      "Enter the terms: 100, 150, 180\n",
      "[18, 22, 24]\n"
     ]
    }
   ],
   "source": [
    "c= 50\n",
    "h = 30\n",
    "\n",
    "d = list(map(int, input(\"Enter the terms: \").split(', ')))\n",
    "res = []\n",
    "for i in range(len(d)):\n",
    "    q = round(((2*c*d[i])/h)**0.5)\n",
    "    res.append(q)\n",
    "print(res)\n"
   ]
  },
  {
   "cell_type": "markdown",
   "id": "af307b68",
   "metadata": {},
   "source": [
    "Question 2:\n",
    "Write a program which takes 2 digits, X,Y as input and generates a 2-dimensional array. The\n",
    "element value in the i-th row and j-th column of the array should be i*j."
   ]
  },
  {
   "cell_type": "code",
   "execution_count": 21,
   "id": "d000d367",
   "metadata": {},
   "outputs": [
    {
     "name": "stdout",
     "output_type": "stream",
     "text": [
      "Enter the number of rows: 3\n",
      "Enter the number of column: 5\n",
      "0 0 0 0 0  \n",
      "0 1 2 3 4  \n",
      "0 2 4 6 8  \n"
     ]
    }
   ],
   "source": [
    "X = int(input(\"Enter the number of rows: \"))\n",
    "Y = int(input(\"Enter the number of column: \"))\n",
    "arr = []\n",
    "n= []\n",
    "for i in range(0,X):\n",
    "    for j in range(0,Y):\n",
    "        m = i*j\n",
    "        n.append(m)\n",
    "    arr.append(n)\n",
    "    n = []\n",
    "\n",
    "for i in range(0,X):\n",
    "    for j in range(0,Y):\n",
    "        print(arr[i][j] , end= \" \")\n",
    "    print(\" \")\n",
    "    \n"
   ]
  },
  {
   "cell_type": "markdown",
   "id": "8dff4a07",
   "metadata": {},
   "source": [
    "Question 3:\n",
    "Write a program that accepts a comma separated sequence of words as input and prints the\n",
    "words in a comma-separated sequence after sorting them alphabetically."
   ]
  },
  {
   "cell_type": "code",
   "execution_count": 26,
   "id": "a276e240",
   "metadata": {},
   "outputs": [
    {
     "name": "stdout",
     "output_type": "stream",
     "text": [
      "Enter the comma separated sequence of words without, bag, world, hello\n",
      "['bag', 'hello', 'without', 'world']\n"
     ]
    }
   ],
   "source": [
    "arr = list(map(str, input(\"Enter the comma separated sequence of words \").split(', ')))\n",
    "\n",
    "arr.sort()\n",
    "\n",
    "print(arr)\n"
   ]
  },
  {
   "cell_type": "markdown",
   "id": "ed5bdc63",
   "metadata": {},
   "source": [
    "Question 4:\n",
    "Write a program that accepts a sequence of whitespace separated words as input and prints\n",
    "the words after removing all duplicate words and sorting them alphanumerically."
   ]
  },
  {
   "cell_type": "code",
   "execution_count": 29,
   "id": "90691342",
   "metadata": {},
   "outputs": [
    {
     "name": "stdout",
     "output_type": "stream",
     "text": [
      "Enter the comma separated sequence of words hello world and practice makes perfect and hello world again\n",
      "['again', 'and', 'hello', 'makes', 'perfect', 'practice', 'world']\n"
     ]
    }
   ],
   "source": [
    "arr = list(map(str, input(\"Enter the whitespace separated sequence of words: \").split(' ')))\n",
    "\n",
    "s = set(arr)\n",
    "print(sorted(s))"
   ]
  },
  {
   "cell_type": "markdown",
   "id": "325fa8cc",
   "metadata": {},
   "source": [
    "Question 5:\n",
    "Write a program that accepts a sentence and calculate the number of letters and digits."
   ]
  },
  {
   "cell_type": "code",
   "execution_count": 37,
   "id": "633698df",
   "metadata": {},
   "outputs": [
    {
     "name": "stdout",
     "output_type": "stream",
     "text": [
      "Enter the sentence: Hello World! 123\"'\n",
      "HelloWorld123\n",
      "LETTERS: 10\n",
      "DIGITS: 3\n"
     ]
    }
   ],
   "source": [
    "s= input(\"Enter the sentence: \")\n",
    "s = s.strip()\n",
    "s = s.replace(\" \",\"\")\n",
    "\n",
    "punc = '''!()-[]{};:'\"\\,<>./?@#$%^&*_~'''\n",
    "for i in s:\n",
    "    if i in punc:\n",
    "        s = s.replace(i, \"\")\n",
    "print(s)\n",
    "d = 0\n",
    "l = 0\n",
    "for i in s:\n",
    "    if (i.isnumeric() == True) :\n",
    "        d+=1\n",
    "    else:\n",
    "        l+=1\n",
    "print(f\"LETTERS: {l}\")\n",
    "print(f\"DIGITS: {d}\")\n",
    "\n",
    "\n",
    "        \n",
    "        "
   ]
  },
  {
   "cell_type": "markdown",
   "id": "5d09c04e",
   "metadata": {},
   "source": [
    "Question 6:\n",
    "A website requires the users to input username and password to register. Write a program to\n",
    "check the validity of password input by users."
   ]
  },
  {
   "cell_type": "code",
   "execution_count": 50,
   "id": "5f661786",
   "metadata": {},
   "outputs": [
    {
     "name": "stdout",
     "output_type": "stream",
     "text": [
      "Type in: ABd1234@1,a F1#,2w3E*,2We3345\n",
      "ABd1234@1\n"
     ]
    }
   ],
   "source": [
    "import re\n",
    "\n",
    "passwords = input(\"Type in: \")\n",
    "passwords = passwords.split(\",\")\n",
    "accepted_pass = []\n",
    "for i in passwords:\n",
    "    \n",
    "    if len(i) < 6 or len(i) > 12:\n",
    "        continue\n",
    "\n",
    "    elif not re.search(\"([a-z])+\", i):\n",
    "        continue\n",
    "\n",
    "    elif not re.search(\"([A-Z])+\", i):\n",
    "        continue\n",
    "\n",
    "    elif not re.search(\"([0-9])+\", i):\n",
    "        continue\n",
    "\n",
    "    elif not re.search(\"([!@$%^&])+\", i):\n",
    "        continue\n",
    "\n",
    "    else:\n",
    "        accepted_pass.append(i)\n",
    "\n",
    "print((\" \").join(accepted_pass))"
   ]
  }
 ],
 "metadata": {
  "kernelspec": {
   "display_name": "Python 3 (ipykernel)",
   "language": "python",
   "name": "python3"
  },
  "language_info": {
   "codemirror_mode": {
    "name": "ipython",
    "version": 3
   },
   "file_extension": ".py",
   "mimetype": "text/x-python",
   "name": "python",
   "nbconvert_exporter": "python",
   "pygments_lexer": "ipython3",
   "version": "3.8.8"
  }
 },
 "nbformat": 4,
 "nbformat_minor": 5
}
