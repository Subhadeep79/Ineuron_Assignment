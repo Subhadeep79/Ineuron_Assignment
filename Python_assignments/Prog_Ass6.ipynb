{
 "cells": [
  {
   "cell_type": "markdown",
   "id": "fe00f811",
   "metadata": {},
   "source": [
    "# Python_programming Assignment 6\n"
   ]
  },
  {
   "cell_type": "markdown",
   "id": "084f554e",
   "metadata": {},
   "source": [
    "1. Write a Python Program to Display Fibonacci Sequence Using Recursion?"
   ]
  },
  {
   "cell_type": "code",
   "execution_count": 1,
   "id": "b501555a",
   "metadata": {},
   "outputs": [
    {
     "name": "stdout",
     "output_type": "stream",
     "text": [
      "Enter the number of terms: 8\n",
      " sequence:\n",
      "0\n",
      "1\n",
      "1\n",
      "2\n",
      "3\n",
      "5\n",
      "8\n",
      "13\n"
     ]
    }
   ],
   "source": [
    "def genFibon(n):\n",
    "    if n <= 1:\n",
    "        return n\n",
    "    else:\n",
    "        return(genFibon(n-1) + genFibon(n-2))\n",
    "\n",
    "\n",
    "num = int(input(\"Enter the number of terms: \"))\n",
    "print(\" sequence:\")\n",
    "for i in range(num):\n",
    "    print(genFibon(i))"
   ]
  },
  {
   "cell_type": "markdown",
   "id": "31d8ee9e",
   "metadata": {},
   "source": [
    "2. Write a Python Program to Find Factorial of Number Using Recursion?"
   ]
  },
  {
   "cell_type": "code",
   "execution_count": 2,
   "id": "90747317",
   "metadata": {},
   "outputs": [
    {
     "name": "stdout",
     "output_type": "stream",
     "text": [
      "Enter the number of terms: 4\n",
      "24\n"
     ]
    }
   ],
   "source": [
    "num = int(input(\"Enter the number of terms: \"))\n",
    "\n",
    "def fact(n):\n",
    "    if n <= 1:\n",
    "        return n\n",
    "    else:\n",
    "        return n*fact(n-1)\n",
    "\n",
    "print(fact(num))"
   ]
  },
  {
   "cell_type": "markdown",
   "id": "b2ae68b7",
   "metadata": {},
   "source": [
    "3. Write a Python Program to calculate your Body Mass Index?"
   ]
  },
  {
   "cell_type": "code",
   "execution_count": 3,
   "id": "a3c8c5b3",
   "metadata": {},
   "outputs": [
    {
     "name": "stdout",
     "output_type": "stream",
     "text": [
      "Enter hight (m) : 1.8\n",
      "Enter weight(kg): 80\n",
      "bmi = 24.691\n"
     ]
    }
   ],
   "source": [
    "h = float(input(\"Enter hight (m) : \"))\n",
    "w = float(input(\"Enter weight(kg): \"))\n",
    "\n",
    "print(f\"bmi = {round(w/h**2,3)}\")"
   ]
  },
  {
   "cell_type": "markdown",
   "id": "fcd884b4",
   "metadata": {},
   "source": [
    "4. Write a Python Program to calculate the natural logarithm of any number?"
   ]
  },
  {
   "cell_type": "code",
   "execution_count": 4,
   "id": "7474b33d",
   "metadata": {},
   "outputs": [
    {
     "name": "stdout",
     "output_type": "stream",
     "text": [
      "Enter the number: 2\n",
      "natural log of the number is : 0.6931471805599453\n"
     ]
    }
   ],
   "source": [
    "import math\n",
    "\n",
    "n = float(input(\"Enter the number: \"))\n",
    "\n",
    "print(f\"natural log of the number is : {math.log(n)}\")"
   ]
  },
  {
   "cell_type": "markdown",
   "id": "6327dddb",
   "metadata": {},
   "source": [
    "5. Write a Python Program for cube sum of first n natural numbers?"
   ]
  },
  {
   "cell_type": "code",
   "execution_count": 5,
   "id": "eef28eb2",
   "metadata": {},
   "outputs": [
    {
     "name": "stdout",
     "output_type": "stream",
     "text": [
      "Enter the number: 5\n",
      "225\n"
     ]
    }
   ],
   "source": [
    "n = int(input(\"Enter the number: \"))\n",
    "s = 0\n",
    "\n",
    "for i in range(1,n+1):\n",
    "    s += i**3 \n",
    "print(s)\n",
    "\n",
    "\n",
    "\n",
    "    "
   ]
  }
 ],
 "metadata": {
  "kernelspec": {
   "display_name": "Python 3 (ipykernel)",
   "language": "python",
   "name": "python3"
  },
  "language_info": {
   "codemirror_mode": {
    "name": "ipython",
    "version": 3
   },
   "file_extension": ".py",
   "mimetype": "text/x-python",
   "name": "python",
   "nbconvert_exporter": "python",
   "pygments_lexer": "ipython3",
   "version": "3.8.8"
  }
 },
 "nbformat": 4,
 "nbformat_minor": 5
}
