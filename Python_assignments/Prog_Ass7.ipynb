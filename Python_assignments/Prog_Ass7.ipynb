{
 "cells": [
  {
   "cell_type": "markdown",
   "id": "81d8351b",
   "metadata": {},
   "source": [
    "# Python_Programming Assignment7"
   ]
  },
  {
   "cell_type": "markdown",
   "id": "a433b2b7",
   "metadata": {},
   "source": [
    "1. Write a Python Program to find sum of array?"
   ]
  },
  {
   "cell_type": "code",
   "execution_count": 1,
   "id": "d1c0a105",
   "metadata": {},
   "outputs": [
    {
     "name": "stdout",
     "output_type": "stream",
     "text": [
      "Enter number of elements : 3\n",
      "1\n",
      "2\n",
      "3\n",
      "[1, 2, 3]\n",
      "6\n"
     ]
    }
   ],
   "source": [
    "arr = []\n",
    "n = int(input(\"Enter number of elements : \"))\n",
    "for i in range(0, n):\n",
    "    m = int(input())\n",
    "    arr.append(m) \n",
    "      \n",
    "print(arr)\n",
    "s = 0\n",
    "for i in range(0, n):\n",
    "    s += arr[i]\n",
    "print(s)"
   ]
  },
  {
   "cell_type": "markdown",
   "id": "a8bd297e",
   "metadata": {},
   "source": [
    "2. Write a Python Program to find largest element in an array?"
   ]
  },
  {
   "cell_type": "code",
   "execution_count": 2,
   "id": "d44ccb78",
   "metadata": {},
   "outputs": [
    {
     "name": "stdout",
     "output_type": "stream",
     "text": [
      "Enter number of elements : 5\n",
      "1\n",
      "2\n",
      "3\n",
      "4\n",
      "5\n",
      "[1, 2, 3, 4, 5]\n",
      "5\n"
     ]
    }
   ],
   "source": [
    "arr = []\n",
    "n = int(input(\"Enter number of elements : \"))\n",
    "for i in range(0, n):\n",
    "    m = int(input())\n",
    "    arr.append(m) \n",
    "print(arr)\n",
    "\n",
    "arr.sort(reverse = True)\n",
    "print(arr[0])"
   ]
  },
  {
   "cell_type": "markdown",
   "id": "69484d7f",
   "metadata": {},
   "source": [
    "3. Write a Python Program for array rotation?"
   ]
  },
  {
   "cell_type": "code",
   "execution_count": 3,
   "id": "8dde903f",
   "metadata": {},
   "outputs": [
    {
     "name": "stdout",
     "output_type": "stream",
     "text": [
      "Enter number of elements : 5\n",
      "1\n",
      "2\n",
      "3\n",
      "4\n",
      "5\n",
      "roate by : 2\n",
      "1\n",
      "2\n",
      "3\n",
      "4\n",
      "5\n",
      "Array after left rotation: \n",
      "3\n",
      "4\n",
      "5\n",
      "1\n",
      "2\n"
     ]
    }
   ],
   "source": [
    "arr = []\n",
    "ele = int(input(\"Enter number of elements : \"))\n",
    "for i in range(0, ele):\n",
    "    m = int(input())\n",
    "    arr.append(m) \n",
    "\n",
    "n = int(input(\"roate by : \"));    \n",
    "      \n",
    "for i in range(0, len(arr)):    \n",
    "    print(arr[i])             \n",
    "for i in range(0, n):     \n",
    "    first = arr[0]    \n",
    "    for j in range(0, len(arr)-1):    \n",
    "        arr[j] = arr[j+1];       \n",
    "    arr[len(arr)-1] = first    \n",
    "     \n",
    "    \n",
    "        \n",
    "print(\"Array after left rotation: \")   \n",
    "for i in range(0, len(arr)):    \n",
    "    print(arr[i])    "
   ]
  },
  {
   "cell_type": "markdown",
   "id": "b62c0f8b",
   "metadata": {},
   "source": [
    "4. Write a Python Program to Split the array and add the first part to the end?"
   ]
  },
  {
   "cell_type": "code",
   "execution_count": 4,
   "id": "2a2ad9f1",
   "metadata": {},
   "outputs": [
    {
     "name": "stdout",
     "output_type": "stream",
     "text": [
      "Enter number of elements : 5\n",
      "1\n",
      "2\n",
      "3\n",
      "4\n",
      "5\n",
      "Enter splitting position: 2\n",
      "3 4 5 1 2 "
     ]
    }
   ],
   "source": [
    "arr = []\n",
    "n = int(input(\"Enter number of elements : \"))\n",
    "for i in range(0, n):\n",
    "    m = int(input())\n",
    "    arr.append(m) \n",
    "\n",
    "pos = int(input(\"Enter splitting position: \"))\n",
    "\n",
    "for i in range(0, pos):\n",
    "        x = arr[0]\n",
    "        for j in range(0, n-1):\n",
    "            arr[j] = arr[j + 1]\n",
    "         \n",
    "        arr[n-1] = x\n",
    "\n",
    "for i in range(0, n):\n",
    "    print(arr[i], end = ' ')"
   ]
  },
  {
   "cell_type": "markdown",
   "id": "ce94eded",
   "metadata": {},
   "source": [
    "5. Write a Python Program to check if given array is Monotonic?"
   ]
  },
  {
   "cell_type": "code",
   "execution_count": 5,
   "id": "b194dcff",
   "metadata": {},
   "outputs": [
    {
     "name": "stdout",
     "output_type": "stream",
     "text": [
      "Enter number of elements : 5\n",
      "1\n",
      "2\n",
      "3\n",
      "4\n",
      "5\n",
      "monotonic array\n"
     ]
    }
   ],
   "source": [
    "arr = []\n",
    "n = int(input(\"Enter number of elements : \"))\n",
    "for i in range(0, n):\n",
    "    m = int(input())\n",
    "    arr.append(m) \n",
    "\n",
    "inc = True\n",
    "dec = True\n",
    "for i in range(0,len(arr)-1):\n",
    "    if(arr[i] >= arr[i+1]):\n",
    "        inc = False\n",
    "    if(arr[i] <= arr[i+1]):\n",
    "        dec = False\n",
    "\n",
    "if(inc or dec):\n",
    "    print(\"monotonic array\")\n",
    "else:\n",
    "    print(\"not monotonic\")"
   ]
  }
 ],
 "metadata": {
  "kernelspec": {
   "display_name": "Python 3 (ipykernel)",
   "language": "python",
   "name": "python3"
  },
  "language_info": {
   "codemirror_mode": {
    "name": "ipython",
    "version": 3
   },
   "file_extension": ".py",
   "mimetype": "text/x-python",
   "name": "python",
   "nbconvert_exporter": "python",
   "pygments_lexer": "ipython3",
   "version": "3.8.8"
  }
 },
 "nbformat": 4,
 "nbformat_minor": 5
}
