{
 "cells": [
  {
   "cell_type": "markdown",
   "id": "40fe0416",
   "metadata": {},
   "source": [
    "# Python_Programming Assignment 10"
   ]
  },
  {
   "cell_type": "markdown",
   "id": "324513fd",
   "metadata": {},
   "source": [
    "1. Write a Python program to find sum of elements in list?\n",
    "2. Write a Python program to Multiply all numbers in the list?\n",
    "3. Write a Python program to find smallest number in a list?\n",
    "4. Write a Python program to find largest number in a list?\n",
    "5. Write a Python program to find second largest number in a list?\n",
    "6. Write a Python program to find N largest elements from a list?\n",
    "7. Write a Python program to print even numbers in a list?\n",
    "8. Write a Python program to print odd numbers in a List?\n",
    "9. Write a Python program to Remove empty List from List?\n",
    "10. Write a Python program to Cloning or Copying a list?\n",
    "11. Write a Python program to Count occurrences of an element in a list?"
   ]
  },
  {
   "cell_type": "markdown",
   "id": "1672d7d3",
   "metadata": {},
   "source": [
    "Q1"
   ]
  },
  {
   "cell_type": "code",
   "execution_count": 5,
   "id": "fad114e7",
   "metadata": {},
   "outputs": [
    {
     "name": "stdout",
     "output_type": "stream",
     "text": [
      "Enter number of elements of the list: 3\n",
      "1\n",
      "2\n",
      "3\n",
      "[1, 2, 3]\n",
      "Sum of the list is: \n",
      "6\n"
     ]
    }
   ],
   "source": [
    "l = []\n",
    "\n",
    "n = int(input(\"Enter number of elements of the list: \"))\n",
    "\n",
    "for i in range(0,n):\n",
    "    m = float(input())\n",
    "    l.append(m)\n",
    "\n",
    "print(l)\n",
    "print(\"Sum of the list is: \")\n",
    "s=0\n",
    "for i in range(0,n):\n",
    "    s += l[i]\n",
    "print(s)\n",
    "    "
   ]
  },
  {
   "cell_type": "markdown",
   "id": "9ff9da6a",
   "metadata": {},
   "source": [
    "Q2"
   ]
  },
  {
   "cell_type": "code",
   "execution_count": 7,
   "id": "781017f5",
   "metadata": {},
   "outputs": [
    {
     "name": "stdout",
     "output_type": "stream",
     "text": [
      "Enter number of elements of the list: 3\n",
      "1\n",
      "2\n",
      "3\n",
      "[1, 2, 3]\n",
      "product of the list is: \n",
      "6\n"
     ]
    }
   ],
   "source": [
    "l = []\n",
    "\n",
    "n = int(input(\"Enter number of elements of the list: \"))\n",
    "\n",
    "for i in range(0,n):\n",
    "    m = float(input())\n",
    "    l.append(m)\n",
    "\n",
    "print(l)\n",
    "print(\"product of the list is: \")\n",
    "s=1\n",
    "for i in range(0,n):\n",
    "    s *= l[i]\n",
    "print(s)"
   ]
  },
  {
   "cell_type": "markdown",
   "id": "f6b4834d",
   "metadata": {},
   "source": [
    "Q3"
   ]
  },
  {
   "cell_type": "code",
   "execution_count": 11,
   "id": "5c32a905",
   "metadata": {},
   "outputs": [
    {
     "name": "stdout",
     "output_type": "stream",
     "text": [
      "Enter number of elements of the list: 5\n",
      "2\n",
      "3\n",
      "4\n",
      "1\n",
      "5\n",
      "smallest number in the list is : 1\n"
     ]
    }
   ],
   "source": [
    "l = []\n",
    "\n",
    "n = int(input(\"Enter number of elements of the list: \"))\n",
    "\n",
    "for i in range(0,n):\n",
    "    m = int(input())\n",
    "    l.append(m)\n",
    "\n",
    "l.sort()\n",
    "print(f'smallest number in the list is : {l[0]}')\n"
   ]
  },
  {
   "cell_type": "markdown",
   "id": "acd7aa2e",
   "metadata": {},
   "source": [
    "Q4"
   ]
  },
  {
   "cell_type": "code",
   "execution_count": 12,
   "id": "c1a143b4",
   "metadata": {},
   "outputs": [
    {
     "name": "stdout",
     "output_type": "stream",
     "text": [
      "Enter number of elements of the list: 5\n",
      "2\n",
      "3\n",
      "4\n",
      "5\n",
      "1\n",
      "smallest number in the list is : 5\n"
     ]
    }
   ],
   "source": [
    "l = []\n",
    "\n",
    "n = int(input(\"Enter number of elements of the list: \"))\n",
    "\n",
    "for i in range(0,n):\n",
    "    m = int(input())\n",
    "    l.append(m)\n",
    "\n",
    "l.sort(reverse = True)\n",
    "print(f'Largest number in the list is : {l[0]}')\n"
   ]
  },
  {
   "cell_type": "markdown",
   "id": "0e5c5d91",
   "metadata": {},
   "source": [
    "Q5"
   ]
  },
  {
   "cell_type": "code",
   "execution_count": 13,
   "id": "7cefe3f8",
   "metadata": {},
   "outputs": [
    {
     "name": "stdout",
     "output_type": "stream",
     "text": [
      "Enter number of elements of the list: 5\n",
      "2\n",
      "3\n",
      "1\n",
      "4\n",
      "5\n",
      "2nd Largest number in the list is : 4\n"
     ]
    }
   ],
   "source": [
    "l = []\n",
    "\n",
    "n = int(input(\"Enter number of elements of the list: \"))\n",
    "\n",
    "for i in range(0,n):\n",
    "    m = int(input())\n",
    "    l.append(m)\n",
    "\n",
    "l.sort(reverse = True)\n",
    "print(f'2nd Largest number in the list is : {l[1]}')\n"
   ]
  },
  {
   "cell_type": "markdown",
   "id": "08aa3365",
   "metadata": {},
   "source": [
    "Q6"
   ]
  },
  {
   "cell_type": "code",
   "execution_count": 18,
   "id": "c2068afd",
   "metadata": {},
   "outputs": [
    {
     "name": "stdout",
     "output_type": "stream",
     "text": [
      "Enter number of elements of the list: 5\n",
      "Enter the nth largest number u want from list : 3\n",
      "Enter list Elements: \n",
      "4\n",
      "3\n",
      "5\n",
      "1\n",
      "2\n",
      " \n",
      "3 Largest number in the list is : 3\n"
     ]
    }
   ],
   "source": [
    "l = []\n",
    "\n",
    "n = int(input(\"Enter number of elements of the list: \"))\n",
    "c = int(input(\"Enter the nth largest number u want from list : \"))\n",
    "\n",
    "print(\"Enter list Elements: \")\n",
    "for i in range(0,n):\n",
    "    m = int(input())\n",
    "    l.append(m)\n",
    "\n",
    "l.sort(reverse = True)\n",
    "\n",
    "print(\" \")\n",
    "print(f'{c} Largest number in the list is : {l[c-1]}')"
   ]
  },
  {
   "cell_type": "markdown",
   "id": "6eacca23",
   "metadata": {},
   "source": [
    "Q7"
   ]
  },
  {
   "cell_type": "code",
   "execution_count": 19,
   "id": "e9a74f01",
   "metadata": {},
   "outputs": [
    {
     "name": "stdout",
     "output_type": "stream",
     "text": [
      "Enter number of elements of the list: 5\n",
      "4\n",
      "7\n",
      "8\n",
      "1\n",
      "3\n",
      "[4, 7, 8, 1, 3]\n",
      "even nos. the list are: \n",
      "4\n",
      "8\n"
     ]
    }
   ],
   "source": [
    "l = []\n",
    "\n",
    "n = int(input(\"Enter number of elements of the list: \"))\n",
    "\n",
    "for i in range(0,n):\n",
    "    m = int(input())\n",
    "    l.append(m)\n",
    "\n",
    "print(l)\n",
    "print(\"even nos. the list are: \")\n",
    "\n",
    "for i in range(0,n):\n",
    "    if(l[i]%2 == 0):\n",
    "        print(l[i])\n",
    "\n",
    "    "
   ]
  },
  {
   "cell_type": "markdown",
   "id": "90e6c91c",
   "metadata": {},
   "source": [
    "Q8"
   ]
  },
  {
   "cell_type": "code",
   "execution_count": 20,
   "id": "0debf579",
   "metadata": {},
   "outputs": [
    {
     "name": "stdout",
     "output_type": "stream",
     "text": [
      "Enter number of elements of the list: 5\n",
      "3\n",
      "88\n",
      "7\n",
      "2\n",
      "1\n",
      "[3, 88, 7, 2, 1]\n",
      "odd nos. the list are: \n",
      "3\n",
      "7\n",
      "1\n"
     ]
    }
   ],
   "source": [
    "l = []\n",
    "\n",
    "n = int(input(\"Enter number of elements of the list: \"))\n",
    "\n",
    "for i in range(0,n):\n",
    "    m = int(input())\n",
    "    l.append(m)\n",
    "\n",
    "print(l)\n",
    "print(\"odd nos. the list are: \")\n",
    "\n",
    "for i in range(0,n):\n",
    "    if(l[i]%2 != 0):\n",
    "        print(l[i])\n",
    "\n",
    "    "
   ]
  },
  {
   "cell_type": "markdown",
   "id": "c3e34c13",
   "metadata": {},
   "source": [
    "Q9"
   ]
  },
  {
   "cell_type": "code",
   "execution_count": 38,
   "id": "623f0ca4",
   "metadata": {},
   "outputs": [
    {
     "name": "stdout",
     "output_type": "stream",
     "text": [
      "[[5, 8], 'text', 'text2', 'moreText']\n"
     ]
    }
   ],
   "source": [
    "list1 = [[], [5,8], [], [], [], 'text', 'text2', [], 'moreText']\n",
    "list2 = []\n",
    "list2 = list(filter(None, list1))\n",
    "\n",
    "print(list2)"
   ]
  },
  {
   "cell_type": "markdown",
   "id": "f7e434c8",
   "metadata": {},
   "source": [
    "Q10"
   ]
  },
  {
   "cell_type": "code",
   "execution_count": 42,
   "id": "0dd60a0a",
   "metadata": {},
   "outputs": [
    {
     "name": "stdout",
     "output_type": "stream",
     "text": [
      "original : [1, 2, 3, 4, 5]\n",
      "cloned : [1, 2, 3, 4, 5]\n"
     ]
    }
   ],
   "source": [
    "list1 = [1,2,3,4,5]\n",
    "copy = list1[:]\n",
    "\n",
    "print(f\"original : {list1}\")\n",
    "print(f\"cloned : {copy}\")"
   ]
  },
  {
   "cell_type": "code",
   "execution_count": 44,
   "id": "5c4916d2",
   "metadata": {},
   "outputs": [
    {
     "name": "stdout",
     "output_type": "stream",
     "text": [
      "Enter number of elements of the list: 6\n",
      "1\n",
      "2\n",
      "2\n",
      "3\n",
      "4\n",
      "5\n",
      "[1, 2, 2, 3, 4, 5]\n",
      "Enter the element for which you want to count ocurences: 2\n",
      "2 occured for: 2 \n"
     ]
    }
   ],
   "source": [
    "l = []\n",
    "\n",
    "n = int(input(\"Enter number of elements of the list: \"))\n",
    "\n",
    "for i in range(0,n):\n",
    "    m = int(input())\n",
    "    l.append(m)\n",
    "\n",
    "print(l)\n",
    "\n",
    "c = int(input(\"Enter the element for which you want to count ocurences: \"))\n",
    "ctr = 0\n",
    "for i in range(0,n):\n",
    "    if(c == l[i]):\n",
    "        ctr +=1 \n",
    "print(f\"{c} occured for: {ctr} times \")\n",
    "    "
   ]
  }
 ],
 "metadata": {
  "kernelspec": {
   "display_name": "Python 3 (ipykernel)",
   "language": "python",
   "name": "python3"
  },
  "language_info": {
   "codemirror_mode": {
    "name": "ipython",
    "version": 3
   },
   "file_extension": ".py",
   "mimetype": "text/x-python",
   "name": "python",
   "nbconvert_exporter": "python",
   "pygments_lexer": "ipython3",
   "version": "3.8.8"
  }
 },
 "nbformat": 4,
 "nbformat_minor": 5
}
