{
 "cells": [
  {
   "cell_type": "markdown",
   "id": "f310d9bf",
   "metadata": {},
   "source": [
    "# Python_Programming assignment 9"
   ]
  },
  {
   "cell_type": "markdown",
   "id": "5fcd4d73",
   "metadata": {},
   "source": [
    "1. Write a Python program to check if the given number is a Disarium Number?\n",
    "\n",
    "\n",
    "\n"
   ]
  },
  {
   "cell_type": "code",
   "execution_count": 1,
   "id": "e9e292d8",
   "metadata": {},
   "outputs": [
    {
     "name": "stdout",
     "output_type": "stream",
     "text": [
      "Enter the number: 135\n",
      "Disarium number\n"
     ]
    }
   ],
   "source": [
    "\n",
    "def isdisa(n):\n",
    "    bak = n\n",
    "    digit = len(str(bak))\n",
    "    s=0\n",
    "    rem = 0\n",
    "    while(bak!=0):\n",
    "        rem = bak%10\n",
    "        s+= rem**digit\n",
    "        bak=bak//10\n",
    "        digit-=1\n",
    "    if (s==n):\n",
    "        return True\n",
    "    else:\n",
    "        return False\n",
    "\n",
    "num = int(input(\"Enter the number: \"))\n",
    "if(isdisa(num) == True):\n",
    "    print(\"Disarium number\")\n",
    "else:\n",
    "    print(\"not Disarium \")\n",
    "    \n",
    "        "
   ]
  },
  {
   "cell_type": "markdown",
   "id": "43d798cf",
   "metadata": {},
   "source": [
    "2. Write a Python program to print all disarium numbers between 1 to 100?"
   ]
  },
  {
   "cell_type": "code",
   "execution_count": 2,
   "id": "3da7019d",
   "metadata": {},
   "outputs": [
    {
     "name": "stdout",
     "output_type": "stream",
     "text": [
      "Disarium numbers between 1-100: \n",
      "1\n",
      "2\n",
      "3\n",
      "4\n",
      "5\n",
      "6\n",
      "7\n",
      "8\n",
      "9\n",
      "89\n"
     ]
    }
   ],
   "source": [
    "def isdisa(n):\n",
    "    bak = n\n",
    "    digit = len(str(bak))\n",
    "    s=0\n",
    "    rem = 0\n",
    "    while(bak!=0):\n",
    "        rem = bak%10\n",
    "        s+= rem**digit\n",
    "        bak=bak//10\n",
    "        digit-=1\n",
    "    if (s==n):\n",
    "        return True\n",
    "    else:\n",
    "        return False\n",
    "print(\"Disarium numbers between 1-100: \")\n",
    "for i in range(1,100):\n",
    "    if(isdisa(i) == True):\n",
    "        print(i)\n",
    "    \n"
   ]
  },
  {
   "cell_type": "markdown",
   "id": "0155d93a",
   "metadata": {},
   "source": [
    "3. Write a Python program to check if the given number is Happy Number?"
   ]
  },
  {
   "cell_type": "code",
   "execution_count": 3,
   "id": "2f0e480d",
   "metadata": {},
   "outputs": [
    {
     "name": "stdout",
     "output_type": "stream",
     "text": [
      "Enter the number: 19\n",
      "Happy\n"
     ]
    }
   ],
   "source": [
    "def isHappy(n):\n",
    "    s = 0\n",
    "    bak = n\n",
    "    while(True):\n",
    "        while(bak>0):\n",
    "            rem = bak % 10\n",
    "            s+= rem**2\n",
    "            bak = bak // 10\n",
    "        if(s==1):\n",
    "            return True\n",
    "            break\n",
    "        elif(s==4):\n",
    "            return False\n",
    "            break\n",
    "        bak = s\n",
    "        s = 0 \n",
    "        \n",
    "n = int(input(\"Enter the number: \"))\n",
    "\n",
    "if (isHappy(n) ==True):\n",
    "    print(\"Happy\")\n",
    "else:\n",
    "    print(\"not Happy\")\n",
    "        \n",
    "        \n",
    "    "
   ]
  },
  {
   "cell_type": "markdown",
   "id": "20fbd7d4",
   "metadata": {},
   "source": [
    "\n",
    "4. Write a Python program to print all happy numbers between 1 and 100?"
   ]
  },
  {
   "cell_type": "code",
   "execution_count": 4,
   "id": "24d565e6",
   "metadata": {},
   "outputs": [
    {
     "name": "stdout",
     "output_type": "stream",
     "text": [
      " happy numbers : \n",
      "1\n",
      "7\n",
      "10\n",
      "13\n",
      "19\n",
      "23\n",
      "28\n",
      "31\n",
      "32\n",
      "44\n",
      "49\n",
      "68\n",
      "70\n",
      "79\n",
      "82\n",
      "86\n",
      "91\n",
      "94\n",
      "97\n",
      "100\n"
     ]
    }
   ],
   "source": [
    "def isHappyNumber(num):    \n",
    "    rem = sum = 0;    \n",
    "      \n",
    "    while(num > 0):    \n",
    "        rem = num%10;    \n",
    "        sum = sum + (rem*rem);    \n",
    "        num = num//10;    \n",
    "    return sum;    \n",
    "             \n",
    "print(\" happy numbers : \");    \n",
    "for i in range(1, 101):    \n",
    "    result = i;       \n",
    "    while(result != 1 and result != 4):    \n",
    "        result = isHappyNumber(result);            \n",
    "    if(result == 1):    \n",
    "        print(i)   \n",
    "\n",
    "        "
   ]
  },
  {
   "cell_type": "markdown",
   "id": "6a865077",
   "metadata": {},
   "source": [
    "5. Write a Python program to determine whether the given number is a Harshad Number?"
   ]
  },
  {
   "cell_type": "code",
   "execution_count": 5,
   "id": "5f22447e",
   "metadata": {},
   "outputs": [
    {
     "name": "stdout",
     "output_type": "stream",
     "text": [
      "Enter the number: 21\n",
      "Harshad Number\n"
     ]
    }
   ],
   "source": [
    "n = int(input(\"Enter the number: \"))\n",
    "\n",
    "bak = n\n",
    "s = 0\n",
    "rem = 0\n",
    "while(n>0):\n",
    "    rem = n%10\n",
    "    s += rem\n",
    "    n= n//10\n",
    "if(bak%s == 0):\n",
    "    print(\"Harshad Number\")\n",
    "else:\n",
    "    print(\"Not a Harshad Number\")"
   ]
  },
  {
   "cell_type": "markdown",
   "id": "6d0bc64d",
   "metadata": {},
   "source": [
    "6. Write a Python program to print all pronic numbers between 1 and 100?"
   ]
  },
  {
   "cell_type": "code",
   "execution_count": 6,
   "id": "a40b09da",
   "metadata": {},
   "outputs": [
    {
     "name": "stdout",
     "output_type": "stream",
     "text": [
      "Enter the number: 56\n",
      "Pronic\n"
     ]
    }
   ],
   "source": [
    "n = int(input(\"Enter the number: \"))\n",
    "flag = False\n",
    "for i in range(1,n//2):\n",
    "    if (i*(i+1) == n):\n",
    "        flag = True\n",
    "    \n",
    "if (flag== True):\n",
    "    print(\"Pronic\")\n",
    "else:\n",
    "    print(\"Not Pronic\")"
   ]
  }
 ],
 "metadata": {
  "kernelspec": {
   "display_name": "Python 3 (ipykernel)",
   "language": "python",
   "name": "python3"
  },
  "language_info": {
   "codemirror_mode": {
    "name": "ipython",
    "version": 3
   },
   "file_extension": ".py",
   "mimetype": "text/x-python",
   "name": "python",
   "nbconvert_exporter": "python",
   "pygments_lexer": "ipython3",
   "version": "3.8.8"
  }
 },
 "nbformat": 4,
 "nbformat_minor": 5
}
