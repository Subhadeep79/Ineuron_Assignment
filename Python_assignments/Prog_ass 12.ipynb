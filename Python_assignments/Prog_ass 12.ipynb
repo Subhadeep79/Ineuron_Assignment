{
 "cells": [
  {
   "cell_type": "markdown",
   "id": "5c30ac2b",
   "metadata": {},
   "source": [
    "# Python_porgramming assignment 12"
   ]
  },
  {
   "cell_type": "markdown",
   "id": "9a0fa474",
   "metadata": {},
   "source": [
    "1. Write a Python program to Extract Unique values dictionary values?"
   ]
  },
  {
   "cell_type": "code",
   "execution_count": 4,
   "id": "e8ef9588",
   "metadata": {},
   "outputs": [
    {
     "name": "stdout",
     "output_type": "stream",
     "text": [
      "unique values : - {'blue', 'green', 'red', 'white'}\n"
     ]
    }
   ],
   "source": [
    "mydict = {1:\"red\" , 2:\"green\", 3:\"blue\", 4:\"red\", 5:\"blue\", 6:\"white\"}\n",
    "\n",
    "print(f\"unique values : - {set(mydict.values())}\")"
   ]
  },
  {
   "cell_type": "markdown",
   "id": "0bfa8ed8",
   "metadata": {},
   "source": [
    "Write a Python program to find the sum of all items in a dictionary?"
   ]
  },
  {
   "cell_type": "code",
   "execution_count": 6,
   "id": "d6155a07",
   "metadata": {},
   "outputs": [
    {
     "name": "stdout",
     "output_type": "stream",
     "text": [
      "Enter the number of items: 3\n",
      "enter the number: 1\n",
      "enter the number: 2\n",
      "enter the number: 3\n",
      "6.0\n"
     ]
    }
   ],
   "source": [
    "dic = {}\n",
    "\n",
    "n = int(input(\"Enter the number of items: \"))\n",
    "\n",
    "for i in range(n):\n",
    "    num = float(input(\"enter the number: \"))\n",
    "    dic[i] = num\n",
    "\n",
    "l = (list(dic.values()))\n",
    "s= 0\n",
    "for i in range(len(l)):\n",
    "    s += l[i]\n",
    "print(s)\n"
   ]
  },
  {
   "cell_type": "markdown",
   "id": "91e680c9",
   "metadata": {},
   "source": [
    "Write a Python program to Merging two Dictionaries?"
   ]
  },
  {
   "cell_type": "code",
   "execution_count": 8,
   "id": "9fb63d99",
   "metadata": {},
   "outputs": [
    {
     "name": "stdout",
     "output_type": "stream",
     "text": [
      "{1: 'red', 2: 'green', 3: 'blue', 4: 'white'}\n"
     ]
    }
   ],
   "source": [
    "d1 = {1:\"red\" , 2:\"green\"} \n",
    "d2 = {3:\"blue\", 4:\"white\"}\n",
    "\n",
    "d1.update(d2)\n",
    "print(d1)"
   ]
  },
  {
   "cell_type": "markdown",
   "id": "8f7a1983",
   "metadata": {},
   "source": [
    "Write a Python program to convert key-values list to flat dictionary?"
   ]
  },
  {
   "cell_type": "code",
   "execution_count": 12,
   "id": "7f7307f2",
   "metadata": {},
   "outputs": [
    {
     "name": "stdout",
     "output_type": "stream",
     "text": [
      "The original dictionary is : {'number': [1, 2, 3], 'name': ['Red', 'Blue', 'Green']}\n",
      "Flattened dictionary : {1: 'Red', 2: 'Blue', 3: 'Green'}\n"
     ]
    }
   ],
   "source": [
    "dic = {'number' : [1, 2, 3],\n",
    "            'name' : ['Red', 'Blue', 'Green']}\n",
    " \n",
    "\n",
    "print(f\"The original dictionary is : {dic}\")\n",
    " \n",
    "\n",
    "x=list(dic.values())\n",
    "a=x[0]\n",
    "b=x[1]\n",
    "d=dict()\n",
    "for i in range(0,len(a)):\n",
    "    d[a[i]]=b[i]\n",
    "\n",
    "print(f\"Flattened dictionary : {d}\")"
   ]
  },
  {
   "cell_type": "markdown",
   "id": "73e1f77a",
   "metadata": {},
   "source": [
    "Write a Python program to insertion at the beginning in OrderedDict?"
   ]
  },
  {
   "cell_type": "code",
   "execution_count": 15,
   "id": "d0e119ce",
   "metadata": {},
   "outputs": [
    {
     "name": "stdout",
     "output_type": "stream",
     "text": [
      "Original: OrderedDict([('IND', 'India'), ('ESP', 'Spain'), ('POR', 'Portugal'), ('USA', 'United States')])\n",
      "after insertion : OrderedDict([('ITA', 'Italy'), ('IND', 'India'), ('ESP', 'Spain'), ('POR', 'Portugal'), ('USA', 'United States')]) \n"
     ]
    }
   ],
   "source": [
    "from collections import OrderedDict\n",
    "\n",
    "country = OrderedDict([('IND', 'India'),\n",
    "                      ('ESP', 'Spain'),\n",
    "                      ('POR', 'Portugal'),\n",
    "                      ('USA', 'United States')])\n",
    "\n",
    "print(f\"Original: {country}\")\n",
    "\n",
    "country.update({'ITA': 'Italy'})\n",
    "country.move_to_end('ITA', last = False)\n",
    "\n",
    "print(f\"after insertion : {country} \")"
   ]
  },
  {
   "cell_type": "markdown",
   "id": "2c20248e",
   "metadata": {},
   "source": [
    "6. Write a Python program to check order of character in string using OrderedDict()?"
   ]
  },
  {
   "cell_type": "code",
   "execution_count": null,
   "id": "3cff23f3",
   "metadata": {},
   "outputs": [],
   "source": []
  },
  {
   "cell_type": "markdown",
   "id": "886f0258",
   "metadata": {},
   "source": [
    "7. Write a Python program to sort Python Dictionaries by Key or Value?"
   ]
  },
  {
   "cell_type": "code",
   "execution_count": 21,
   "id": "ed622cbc",
   "metadata": {},
   "outputs": [
    {
     "name": "stdout",
     "output_type": "stream",
     "text": [
      "{1: 'green', 2: 'blue', 3: 'red', 4: 'white'}\n",
      "{3: 'red', 1: 'green', 2: 'blue', 4: 'white', 'key': <function <lambda> at 0x0000023FAC63FA60>}\n"
     ]
    }
   ],
   "source": [
    "mydict = {3:\"red\" , 1:\"green\", 2:\"blue\", 4:\"white\"}\n",
    "\n",
    "#by_key\n",
    "print(dict(sorted(mydict.items())))\n",
    "\n",
    "#by value"
   ]
  }
 ],
 "metadata": {
  "kernelspec": {
   "display_name": "Python 3 (ipykernel)",
   "language": "python",
   "name": "python3"
  },
  "language_info": {
   "codemirror_mode": {
    "name": "ipython",
    "version": 3
   },
   "file_extension": ".py",
   "mimetype": "text/x-python",
   "name": "python",
   "nbconvert_exporter": "python",
   "pygments_lexer": "ipython3",
   "version": "3.8.8"
  }
 },
 "nbformat": 4,
 "nbformat_minor": 5
}
