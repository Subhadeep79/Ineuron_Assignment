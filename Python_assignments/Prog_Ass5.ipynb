{
 "cells": [
  {
   "cell_type": "markdown",
   "id": "52714060",
   "metadata": {},
   "source": [
    "# Python_programming assignment 4 "
   ]
  },
  {
   "cell_type": "markdown",
   "id": "12d3525f",
   "metadata": {},
   "source": [
    "1. Write a Python Program to Find LCM?"
   ]
  },
  {
   "cell_type": "code",
   "execution_count": 1,
   "id": "f2220e2e",
   "metadata": {},
   "outputs": [
    {
     "name": "stdout",
     "output_type": "stream",
     "text": [
      "Enter first number: 6\n",
      "Enter second number: 8\n",
      "lcm is 24\n"
     ]
    }
   ],
   "source": [
    "n1 = int(input(\"Enter first number: \"))\n",
    "n2 = int(input(\"Enter second number: \"))\n",
    "\n",
    "maxn = max(n1,n2)\n",
    "\n",
    "while(True):\n",
    "    if(maxn%n1 == 0 and maxn%n2==0 ):\n",
    "        print(f\"lcm is {maxn}\")\n",
    "        break\n",
    "    maxn+=1\n",
    "  "
   ]
  },
  {
   "cell_type": "markdown",
   "id": "fc33a81c",
   "metadata": {},
   "source": [
    "2. Write a Python Program to Find HCF?"
   ]
  },
  {
   "cell_type": "code",
   "execution_count": 2,
   "id": "4092e7e3",
   "metadata": {},
   "outputs": [
    {
     "name": "stdout",
     "output_type": "stream",
     "text": [
      "Enter first number: 2\n",
      "Enter second number: 4\n",
      "2\n"
     ]
    }
   ],
   "source": [
    "n1 = int(input(\"Enter first number: \"))\n",
    "n2 = int(input(\"Enter second number: \"))\n",
    "\n",
    "minn = min(n1,n2)\n",
    "hcf =0 \n",
    "for i in range(1,minn+1):\n",
    "    if((n1 % i == 0) and (n2 % i == 0)):\n",
    "        hcf = i\n",
    "print(hcf)"
   ]
  },
  {
   "cell_type": "markdown",
   "id": "4b311226",
   "metadata": {},
   "source": [
    "3. Write a Python Program to Convert Decimal to Binary, Octal and Hexadecimal?"
   ]
  },
  {
   "cell_type": "code",
   "execution_count": 3,
   "id": "dcde95d8",
   "metadata": {},
   "outputs": [
    {
     "name": "stdout",
     "output_type": "stream",
     "text": [
      "Enter the decimal number: 120\n",
      "0b1111000 in binary.\n",
      "0o170 in octal.\n",
      "0x78 in hexadecimal.\n"
     ]
    }
   ],
   "source": [
    "d = int(input(\"Enter the decimal number: \"))\n",
    "\n",
    "print(bin(d), \"in binary.\")\n",
    "print(oct(d), \"in octal.\")\n",
    "print(hex(d), \"in hexadecimal.\")"
   ]
  },
  {
   "cell_type": "markdown",
   "id": "80773d96",
   "metadata": {},
   "source": [
    "4. Write a Python Program To Find ASCII value of a character?"
   ]
  },
  {
   "cell_type": "code",
   "execution_count": 4,
   "id": "ad3b91ad",
   "metadata": {},
   "outputs": [
    {
     "name": "stdout",
     "output_type": "stream",
     "text": [
      "enter the charecter : A\n",
      "ASCII value of the charecter is 65\n"
     ]
    }
   ],
   "source": [
    "char = input(\"enter the charecter : \")\n",
    "\n",
    "print(f\"ASCII value of the charecter is {ord(char)}\")"
   ]
  },
  {
   "cell_type": "markdown",
   "id": "11a0718f",
   "metadata": {},
   "source": [
    "5. Write a Python Program to Make a Simple Calculator with 4 basic mathematical operations?"
   ]
  },
  {
   "cell_type": "code",
   "execution_count": 5,
   "id": "9c76798b",
   "metadata": {},
   "outputs": [
    {
     "name": "stdout",
     "output_type": "stream",
     "text": [
      "Select operation.\n",
      "1.Add\n",
      "2.Subtract\n",
      "3.Multiply\n",
      "4.Divide\n",
      "Enter choice(1/2/3/4): 1\n",
      "Enter first number: 2\n",
      "Enter second number: 2\n",
      "2.0 + 2.0 = 4.0\n",
      "continue? (yes/no): yes\n",
      "Enter choice(1/2/3/4): 2\n",
      "Enter first number: 2\n",
      "Enter second number: 2\n",
      "2.0 - 2.0 = 0.0\n",
      "continue? (yes/no): yes\n",
      "Enter choice(1/2/3/4): 3\n",
      "Enter first number: 2\n",
      "Enter second number: 2\n",
      "2.0 * 2.0 = 4.0\n",
      "continue? (yes/no): yes\n",
      "Enter choice(1/2/3/4): 2\n",
      "Enter first number: 2\n",
      "Enter second number: 5\n",
      "2.0 - 5.0 = -3.0\n",
      "continue? (yes/no): yes\n",
      "Enter choice(1/2/3/4): 4\n",
      "Enter first number: 2\n",
      "Enter second number: 2\n",
      "2.0 / 2.0 = 1.0\n",
      "continue? (yes/no): no\n"
     ]
    }
   ],
   "source": [
    "def add(x, y):\n",
    "    return x + y\n",
    "def subtract(x, y):\n",
    "    return x - y\n",
    "def multiply(x, y):\n",
    "    return x * y\n",
    "def divide(x, y):\n",
    "    return x / y\n",
    "\n",
    "\n",
    "print(\"Select operation.\")\n",
    "print(\"1.Add\")\n",
    "print(\"2.Subtract\")\n",
    "print(\"3.Multiply\")\n",
    "print(\"4.Divide\")\n",
    "\n",
    "while (True):\n",
    "  \n",
    "    choice = input(\"Enter choice(1/2/3/4): \")\n",
    "\n",
    "    if choice in ('1', '2', '3', '4'):\n",
    "        try:\n",
    "            num1 = float(input(\"Enter first number: \"))\n",
    "            num2 = float(input(\"Enter second number: \"))\n",
    "        except ValueError:\n",
    "            print(\"Invalid input. Please enter a number.\")\n",
    "            continue\n",
    "        if choice == '1':\n",
    "            print(f\"{num1} + {num2} = {add(num1, num2)}\")\n",
    "        elif choice == '2':\n",
    "            print(f\"{num1} - {num2} = {subtract(num1, num2)}\")\n",
    "        elif choice == '3':\n",
    "            print(f\"{num1} * {num2} = {multiply(num1, num2)}\")\n",
    "        elif choice == '4':\n",
    "            print(f\"{num1} / {num2} = {divide(num1, num2)}\")\n",
    "        \n",
    "        next_calculation = input(\"continue? (yes/no): \")\n",
    "        if next_calculation == \"no\":\n",
    "            break\n",
    "        "
   ]
  },
  {
   "cell_type": "code",
   "execution_count": null,
   "id": "87830991",
   "metadata": {},
   "outputs": [],
   "source": []
  }
 ],
 "metadata": {
  "kernelspec": {
   "display_name": "Python 3 (ipykernel)",
   "language": "python",
   "name": "python3"
  },
  "language_info": {
   "codemirror_mode": {
    "name": "ipython",
    "version": 3
   },
   "file_extension": ".py",
   "mimetype": "text/x-python",
   "name": "python",
   "nbconvert_exporter": "python",
   "pygments_lexer": "ipython3",
   "version": "3.8.8"
  }
 },
 "nbformat": 4,
 "nbformat_minor": 5
}
