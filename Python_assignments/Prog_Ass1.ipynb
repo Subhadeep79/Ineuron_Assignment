{
 "cells": [
  {
   "cell_type": "markdown",
   "id": "e3d2bc4d",
   "metadata": {},
   "source": [
    "# Python_programming Assignment 1\n"
   ]
  },
  {
   "cell_type": "markdown",
   "id": "38a2bd90",
   "metadata": {},
   "source": [
    "Q1. Write a Python program to print\"Hello Python\"?"
   ]
  },
  {
   "cell_type": "code",
   "execution_count": 1,
   "id": "9c151185",
   "metadata": {},
   "outputs": [
    {
     "name": "stdout",
     "output_type": "stream",
     "text": [
      "Hello Python\n"
     ]
    }
   ],
   "source": [
    "print(\"Hello Python\")"
   ]
  },
  {
   "cell_type": "markdown",
   "id": "d016258a",
   "metadata": {},
   "source": [
    "Q2. Write a Python program to do arithmetical operations addition and division.?"
   ]
  },
  {
   "cell_type": "code",
   "execution_count": 2,
   "id": "26f3efef",
   "metadata": {},
   "outputs": [
    {
     "name": "stdout",
     "output_type": "stream",
     "text": [
      "addition : 12\n",
      "division : 5.0\n"
     ]
    }
   ],
   "source": [
    "a = 10\n",
    "b = 2\n",
    "\n",
    "print(f\"addition : {a+b}\")\n",
    "print(f\"division : {a/b}\")"
   ]
  },
  {
   "cell_type": "markdown",
   "id": "aef23be3",
   "metadata": {},
   "source": [
    "Q3. Write a Python program to find the area of a triangle?"
   ]
  },
  {
   "cell_type": "code",
   "execution_count": 3,
   "id": "b3c3b438",
   "metadata": {},
   "outputs": [
    {
     "name": "stdout",
     "output_type": "stream",
     "text": [
      "Enter values of 3 sides of a triangle:- \n",
      "Enter value of a: 4\n",
      "Enter value of b: 5\n",
      "Enter value of c: 6\n",
      "Area of the triangle is : 9.921567416492215 \n"
     ]
    }
   ],
   "source": [
    "print(\"Enter values of 3 sides of a triangle:- \")\n",
    "a = int(input(\"Enter value of a: \"))\n",
    "b = int(input(\"Enter value of b: \"))\n",
    "c = int(input(\"Enter value of c: \"))\n",
    "\n",
    "s = (a+b+c)/2\n",
    "\n",
    "area = (s*(s-a)*(s-b)*(s-c))**0.5\n",
    "\n",
    "print(f\"Area of the triangle is : {area} \")"
   ]
  },
  {
   "cell_type": "markdown",
   "id": "791d8001",
   "metadata": {},
   "source": [
    "Q4. Write a Python program to swap two variables?"
   ]
  },
  {
   "cell_type": "code",
   "execution_count": 4,
   "id": "3413f6d5",
   "metadata": {},
   "outputs": [
    {
     "name": "stdout",
     "output_type": "stream",
     "text": [
      "10 20\n"
     ]
    }
   ],
   "source": [
    "x = 10 \n",
    "\n",
    "y = 20\n",
    "\n",
    "print(x , y)"
   ]
  },
  {
   "cell_type": "code",
   "execution_count": 5,
   "id": "5e252b5f",
   "metadata": {},
   "outputs": [
    {
     "name": "stdout",
     "output_type": "stream",
     "text": [
      "20 10\n"
     ]
    }
   ],
   "source": [
    "##swapping \n",
    "temp = x\n",
    "\n",
    "x = y\n",
    "\n",
    "y = temp \n",
    "\n",
    "print(x , y)"
   ]
  },
  {
   "cell_type": "markdown",
   "id": "6ac43c86",
   "metadata": {},
   "source": [
    "Q5. Write a Python program to generate a random number?"
   ]
  },
  {
   "cell_type": "code",
   "execution_count": 6,
   "id": "8e1e70b5",
   "metadata": {},
   "outputs": [
    {
     "name": "stdout",
     "output_type": "stream",
     "text": [
      "4\n",
      "0.921467284146106\n"
     ]
    }
   ],
   "source": [
    "import random\n",
    "rint = random.randint(0,9)\n",
    "rand = random.random()\n",
    "\n",
    "print(rint)\n",
    "print(rand)"
   ]
  }
 ],
 "metadata": {
  "kernelspec": {
   "display_name": "Python 3 (ipykernel)",
   "language": "python",
   "name": "python3"
  },
  "language_info": {
   "codemirror_mode": {
    "name": "ipython",
    "version": 3
   },
   "file_extension": ".py",
   "mimetype": "text/x-python",
   "name": "python",
   "nbconvert_exporter": "python",
   "pygments_lexer": "ipython3",
   "version": "3.8.8"
  }
 },
 "nbformat": 4,
 "nbformat_minor": 5
}
